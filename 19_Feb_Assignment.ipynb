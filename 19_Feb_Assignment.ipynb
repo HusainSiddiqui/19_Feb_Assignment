{
 "cells": [
  {
   "cell_type": "markdown",
   "metadata": {},
   "source": [
    "Q1. What is Flask Framework? What are the advantages of Flask Framework?"
   ]
  },
  {
   "cell_type": "markdown",
   "metadata": {},
   "source": [
    "Flask is a lightweight and flexible Python web framework that allows developers to easily create web applications with a minimalist approach and a small set of core features."
   ]
  },
  {
   "cell_type": "markdown",
   "metadata": {},
   "source": [
    "**Lightweight and minimalist: **\n",
    "\n",
    "    Flask is designed to be lightweight and flexible.\n",
    "    This makes it easy to learn and use, and allows developers to quickly build web applications without unnecessary complexity\n",
    "\n",
    "**Routing system: **\n",
    "\n",
    "    Flask's routing system makes it easy to define routes for different URLs and HTTP methods. This makes it easy to create RESTful APIs and other web services that respond to specific HTTP requests.\n",
    "    \n",
    "**Template engine: **\n",
    "\n",
    "    Flask includes a powerful template engine that allows developers to create dynamic HTML pages that can be rendered on the server side. This makes it easy to create complex web applications that are responsive and interactive.\n",
    "\n",
    "**Easy to deploy: **\n",
    "\n",
    "    Flask can be easily deployed on a wide range of web servers and hosting platforms, thanks to its support for the WSGI protocol.\n",
    "\n",
    "**Large community: **\n",
    "\n",
    "    Flask has a large and active community of developers, which means there are many resources and libraries available for developers to use."
   ]
  },
  {
   "cell_type": "markdown",
   "metadata": {},
   "source": [
    "Q2. Create a simple Flask application to display ‘Hello World!!’. Attach the screenshot of the output in\n",
    "Jupyter Notebook."
   ]
  },
  {
   "cell_type": "code",
   "execution_count": 1,
   "metadata": {},
   "outputs": [
    {
     "name": "stdout",
     "output_type": "stream",
     "text": [
      " * Serving Flask app \"__main__\" (lazy loading)\n",
      " * Environment: production\n",
      "\u001b[31m   WARNING: Do not use the development server in a production environment.\u001b[0m\n",
      "\u001b[2m   Use a production WSGI server instead.\u001b[0m\n",
      " * Debug mode: on\n"
     ]
    },
    {
     "name": "stderr",
     "output_type": "stream",
     "text": [
      " * Restarting with windowsapi reloader\n"
     ]
    },
    {
     "ename": "SystemExit",
     "evalue": "1",
     "output_type": "error",
     "traceback": [
      "An exception has occurred, use %tb to see the full traceback.\n",
      "\u001b[1;31mSystemExit\u001b[0m\u001b[1;31m:\u001b[0m 1\n"
     ]
    },
    {
     "name": "stderr",
     "output_type": "stream",
     "text": [
      "C:\\Users\\Admin\\Anaconda3\\lib\\site-packages\\IPython\\core\\interactiveshell.py:2971: UserWarning: To exit: use 'exit', 'quit', or Ctrl-D.\n",
      "  warn(\"To exit: use 'exit', 'quit', or Ctrl-D.\", stacklevel=1)\n"
     ]
    }
   ],
   "source": [
    "from flask import Flask, request\n",
    "\n",
    "app = Flask(__name__)\n",
    "\n",
    "@app.route('/')\n",
    "def hello():\n",
    "    name = request.args.get('name', 'World')\n",
    "    return f'Hello, {name}!!'\n",
    "\n",
    "if __name__ == '__main__':\n",
    "    app.run(debug=True)"
   ]
  },
  {
   "cell_type": "markdown",
   "metadata": {},
   "source": [
    "![order of execution](https://github.com/HusainSiddiqui/19_Feb_Assignment/blob/main/screen1.png?raw=true)"
   ]
  },
  {
   "cell_type": "markdown",
   "metadata": {},
   "source": [
    "Q3. What is App routing in Flask? Why do we use app routes?\n"
   ]
  },
  {
   "cell_type": "markdown",
   "metadata": {},
   "source": [
    "App routing in Flask is the process of mapping URLs to view functions, defining the different pages or endpoints of a web application, and specifying the code that should be executed when a user requests a particular URL. It is implemented using the @app.route decorator in Flask."
   ]
  },
  {
   "cell_type": "markdown",
   "metadata": {},
   "source": [
    "We use app routes in Flask to define the different pages or endpoints of a web application and specify the code that should be executed when a user requests a particular URL."
   ]
  },
  {
   "cell_type": "markdown",
   "metadata": {},
   "source": [
    "Q4. Create a “/welcome” route to display the welcome message “Welcome to ABC Corporation” and a “/”\n",
    "route to show the following details:\n",
    "Company Name: ABC Corporation\n",
    "Location: India\n",
    "Contact Detail: 999-999-9999\n",
    "Attach the screenshot of the output in Jupyter Notebook.\n"
   ]
  },
  {
   "cell_type": "markdown",
   "metadata": {},
   "source": [
    "![order of execution](https://github.com/HusainSiddiqui/19_Feb_Assignment/blob/main/screen2.png?raw=true)"
   ]
  },
  {
   "cell_type": "markdown",
   "metadata": {},
   "source": [
    "Q5. What function is used in Flask for URL Building? Write a Python code to demonstrate the working of the\n",
    "url_for() function."
   ]
  },
  {
   "cell_type": "markdown",
   "metadata": {},
   "source": [
    "In Flask, the url_for() function is used for URL building."
   ]
  },
  {
   "cell_type": "code",
   "execution_count": null,
   "metadata": {},
   "outputs": [],
   "source": [
    "from flask import Flask, url_for\n",
    "\n",
    "app = Flask(__name__)\n",
    "\n",
    "@app.route('/')\n",
    "def home():\n",
    "    return 'Welcome to the home page!'\n",
    "\n",
    "@app.route('/about')\n",
    "def about():\n",
    "    return 'This is the about page.'\n",
    "\n",
    "@app.route('/contact')\n",
    "def contact():\n",
    "    return 'Please contact us at info@example.com'\n",
    "\n",
    "with app.test_request_context():\n",
    "    print(url_for('home'))   # Output: /\n",
    "    print(url_for('about'))  # Output: /about\n",
    "    print(url_for('contact'))  # Output: /contact"
   ]
  },
  {
   "cell_type": "code",
   "execution_count": null,
   "metadata": {},
   "outputs": [],
   "source": []
  }
 ],
 "metadata": {
  "kernelspec": {
   "display_name": "Python 3",
   "language": "python",
   "name": "python3"
  },
  "language_info": {
   "codemirror_mode": {
    "name": "ipython",
    "version": 3
   },
   "file_extension": ".py",
   "mimetype": "text/x-python",
   "name": "python",
   "nbconvert_exporter": "python",
   "pygments_lexer": "ipython3",
   "version": "3.6.5"
  }
 },
 "nbformat": 4,
 "nbformat_minor": 2
}
